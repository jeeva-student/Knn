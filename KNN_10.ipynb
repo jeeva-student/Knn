{
 "cells": [
  {
   "cell_type": "code",
   "execution_count": 2,
   "id": "1116476a",
   "metadata": {},
   "outputs": [],
   "source": [
    "import pandas as pd\n",
    "import numpy as np\n",
    "import matplotlib.pyplot as plt\n",
    "import seaborn as sns\n",
    "from sklearn.preprocessing import LabelEncoder, StandardScaler\n",
    "from sklearn.model_selection import train_test_split\n",
    "from sklearn.neighbors import KNeighborsClassifier\n",
    "from sklearn.metrics import accuracy_score, f1_score, roc_auc_score, roc_curve"
   ]
  },
  {
   "cell_type": "code",
   "execution_count": 3,
   "id": "f4d5a83c",
   "metadata": {},
   "outputs": [
    {
     "data": {
      "text/html": [
       "<div>\n",
       "<style scoped>\n",
       "    .dataframe tbody tr th:only-of-type {\n",
       "        vertical-align: middle;\n",
       "    }\n",
       "\n",
       "    .dataframe tbody tr th {\n",
       "        vertical-align: top;\n",
       "    }\n",
       "\n",
       "    .dataframe thead th {\n",
       "        text-align: right;\n",
       "    }\n",
       "</style>\n",
       "<table border=\"1\" class=\"dataframe\">\n",
       "  <thead>\n",
       "    <tr style=\"text-align: right;\">\n",
       "      <th></th>\n",
       "      <th>RI</th>\n",
       "      <th>Na</th>\n",
       "      <th>Mg</th>\n",
       "      <th>Al</th>\n",
       "      <th>Si</th>\n",
       "      <th>K</th>\n",
       "      <th>Ca</th>\n",
       "      <th>Ba</th>\n",
       "      <th>Fe</th>\n",
       "      <th>Class</th>\n",
       "    </tr>\n",
       "  </thead>\n",
       "  <tbody>\n",
       "    <tr>\n",
       "      <th>0</th>\n",
       "      <td>151588824</td>\n",
       "      <td>1287795.00</td>\n",
       "      <td>343036.0</td>\n",
       "      <td>140066.00000</td>\n",
       "      <td>73282.00</td>\n",
       "      <td>0.68931</td>\n",
       "      <td>804468.0</td>\n",
       "      <td>0.0</td>\n",
       "      <td>0.1224</td>\n",
       "      <td>negative</td>\n",
       "    </tr>\n",
       "    <tr>\n",
       "      <th>1</th>\n",
       "      <td>15176423</td>\n",
       "      <td>129777.00</td>\n",
       "      <td>353812.0</td>\n",
       "      <td>121127.00000</td>\n",
       "      <td>73002.00</td>\n",
       "      <td>0.65205</td>\n",
       "      <td>852888.0</td>\n",
       "      <td>0.0</td>\n",
       "      <td>0.0000</td>\n",
       "      <td>negative</td>\n",
       "    </tr>\n",
       "    <tr>\n",
       "      <th>2</th>\n",
       "      <td>152212996</td>\n",
       "      <td>1420795.00</td>\n",
       "      <td>382099.0</td>\n",
       "      <td>0.46976</td>\n",
       "      <td>71.77</td>\n",
       "      <td>0.11178</td>\n",
       "      <td>95726.0</td>\n",
       "      <td>0.0</td>\n",
       "      <td>0.0000</td>\n",
       "      <td>negative</td>\n",
       "    </tr>\n",
       "    <tr>\n",
       "      <th>3</th>\n",
       "      <td>152222108</td>\n",
       "      <td>1321045.00</td>\n",
       "      <td>37716.0</td>\n",
       "      <td>0.79076</td>\n",
       "      <td>719884.00</td>\n",
       "      <td>0.13041</td>\n",
       "      <td>102452.0</td>\n",
       "      <td>0.0</td>\n",
       "      <td>0.0000</td>\n",
       "      <td>negative</td>\n",
       "    </tr>\n",
       "    <tr>\n",
       "      <th>4</th>\n",
       "      <td>151755118</td>\n",
       "      <td>13.39</td>\n",
       "      <td>365935.0</td>\n",
       "      <td>11888.00000</td>\n",
       "      <td>727892.00</td>\n",
       "      <td>0.57132</td>\n",
       "      <td>827064.0</td>\n",
       "      <td>0.0</td>\n",
       "      <td>0.0561</td>\n",
       "      <td>negative</td>\n",
       "    </tr>\n",
       "  </tbody>\n",
       "</table>\n",
       "</div>"
      ],
      "text/plain": [
       "          RI          Na        Mg            Al         Si        K  \\\n",
       "0  151588824  1287795.00  343036.0  140066.00000   73282.00  0.68931   \n",
       "1   15176423   129777.00  353812.0  121127.00000   73002.00  0.65205   \n",
       "2  152212996  1420795.00  382099.0       0.46976      71.77  0.11178   \n",
       "3  152222108  1321045.00   37716.0       0.79076  719884.00  0.13041   \n",
       "4  151755118       13.39  365935.0   11888.00000  727892.00  0.57132   \n",
       "\n",
       "         Ca   Ba      Fe      Class  \n",
       "0  804468.0  0.0  0.1224   negative  \n",
       "1  852888.0  0.0  0.0000   negative  \n",
       "2   95726.0  0.0  0.0000   negative  \n",
       "3  102452.0  0.0  0.0000   negative  \n",
       "4  827064.0  0.0  0.0561   negative  "
      ]
     },
     "execution_count": 3,
     "metadata": {},
     "output_type": "execute_result"
    }
   ],
   "source": [
    "df = pd.read_excel(\"glass (Imbalanced).xlsx\")\n",
    "df.head(5)"
   ]
  },
  {
   "cell_type": "code",
   "execution_count": 4,
   "id": "762dc0d6",
   "metadata": {},
   "outputs": [
    {
     "data": {
      "text/plain": [
       "(214, 10)"
      ]
     },
     "execution_count": 4,
     "metadata": {},
     "output_type": "execute_result"
    }
   ],
   "source": [
    "df.shape"
   ]
  },
  {
   "cell_type": "code",
   "execution_count": 5,
   "id": "70afd2dd",
   "metadata": {},
   "outputs": [
    {
     "data": {
      "text/plain": [
       "RI       0\n",
       " Na      0\n",
       " Mg      0\n",
       " Al      0\n",
       " Si      0\n",
       " K       0\n",
       " Ca      0\n",
       " Ba      0\n",
       " Fe      0\n",
       "Class    0\n",
       "dtype: int64"
      ]
     },
     "execution_count": 5,
     "metadata": {},
     "output_type": "execute_result"
    }
   ],
   "source": [
    "df.isnull().sum()"
   ]
  },
  {
   "cell_type": "code",
   "execution_count": 6,
   "id": "0efc7eeb",
   "metadata": {},
   "outputs": [
    {
     "name": "stdout",
     "output_type": "stream",
     "text": [
      "<class 'pandas.core.frame.DataFrame'>\n",
      "RangeIndex: 214 entries, 0 to 213\n",
      "Data columns (total 10 columns):\n",
      " #   Column  Non-Null Count  Dtype  \n",
      "---  ------  --------------  -----  \n",
      " 0   RI      214 non-null    int64  \n",
      " 1    Na     214 non-null    float64\n",
      " 2    Mg     214 non-null    float64\n",
      " 3    Al     214 non-null    float64\n",
      " 4    Si     214 non-null    float64\n",
      " 5    K      214 non-null    float64\n",
      " 6    Ca     214 non-null    float64\n",
      " 7    Ba     214 non-null    float64\n",
      " 8    Fe     214 non-null    float64\n",
      " 9   Class   214 non-null    object \n",
      "dtypes: float64(8), int64(1), object(1)\n",
      "memory usage: 16.8+ KB\n"
     ]
    }
   ],
   "source": [
    "df.info()"
   ]
  },
  {
   "cell_type": "code",
   "execution_count": 7,
   "id": "3b2ede3e",
   "metadata": {},
   "outputs": [
    {
     "data": {
      "text/html": [
       "<div>\n",
       "<style scoped>\n",
       "    .dataframe tbody tr th:only-of-type {\n",
       "        vertical-align: middle;\n",
       "    }\n",
       "\n",
       "    .dataframe tbody tr th {\n",
       "        vertical-align: top;\n",
       "    }\n",
       "\n",
       "    .dataframe thead th {\n",
       "        text-align: right;\n",
       "    }\n",
       "</style>\n",
       "<table border=\"1\" class=\"dataframe\">\n",
       "  <thead>\n",
       "    <tr style=\"text-align: right;\">\n",
       "      <th></th>\n",
       "      <th>RI</th>\n",
       "      <th>Na</th>\n",
       "      <th>Mg</th>\n",
       "      <th>Al</th>\n",
       "      <th>Si</th>\n",
       "      <th>K</th>\n",
       "      <th>Ca</th>\n",
       "      <th>Ba</th>\n",
       "      <th>Fe</th>\n",
       "      <th>Class</th>\n",
       "    </tr>\n",
       "  </thead>\n",
       "  <tbody>\n",
       "    <tr>\n",
       "      <th>0</th>\n",
       "      <td>151588824</td>\n",
       "      <td>1287795.00</td>\n",
       "      <td>343036.0</td>\n",
       "      <td>140066.00000</td>\n",
       "      <td>73282.00</td>\n",
       "      <td>0.68931</td>\n",
       "      <td>804468.0</td>\n",
       "      <td>0.0000</td>\n",
       "      <td>0.1224</td>\n",
       "      <td>0</td>\n",
       "    </tr>\n",
       "    <tr>\n",
       "      <th>1</th>\n",
       "      <td>15176423</td>\n",
       "      <td>129777.00</td>\n",
       "      <td>353812.0</td>\n",
       "      <td>121127.00000</td>\n",
       "      <td>73002.00</td>\n",
       "      <td>0.65205</td>\n",
       "      <td>852888.0</td>\n",
       "      <td>0.0000</td>\n",
       "      <td>0.0000</td>\n",
       "      <td>0</td>\n",
       "    </tr>\n",
       "    <tr>\n",
       "      <th>2</th>\n",
       "      <td>152212996</td>\n",
       "      <td>1420795.00</td>\n",
       "      <td>382099.0</td>\n",
       "      <td>0.46976</td>\n",
       "      <td>71.77</td>\n",
       "      <td>0.11178</td>\n",
       "      <td>95726.0</td>\n",
       "      <td>0.0000</td>\n",
       "      <td>0.0000</td>\n",
       "      <td>0</td>\n",
       "    </tr>\n",
       "    <tr>\n",
       "      <th>3</th>\n",
       "      <td>152222108</td>\n",
       "      <td>1321045.00</td>\n",
       "      <td>37716.0</td>\n",
       "      <td>0.79076</td>\n",
       "      <td>719884.00</td>\n",
       "      <td>0.13041</td>\n",
       "      <td>102452.0</td>\n",
       "      <td>0.0000</td>\n",
       "      <td>0.0000</td>\n",
       "      <td>0</td>\n",
       "    </tr>\n",
       "    <tr>\n",
       "      <th>4</th>\n",
       "      <td>151755118</td>\n",
       "      <td>13.39</td>\n",
       "      <td>365935.0</td>\n",
       "      <td>11888.00000</td>\n",
       "      <td>727892.00</td>\n",
       "      <td>0.57132</td>\n",
       "      <td>827064.0</td>\n",
       "      <td>0.0000</td>\n",
       "      <td>0.0561</td>\n",
       "      <td>0</td>\n",
       "    </tr>\n",
       "    <tr>\n",
       "      <th>...</th>\n",
       "      <td>...</td>\n",
       "      <td>...</td>\n",
       "      <td>...</td>\n",
       "      <td>...</td>\n",
       "      <td>...</td>\n",
       "      <td>...</td>\n",
       "      <td>...</td>\n",
       "      <td>...</td>\n",
       "      <td>...</td>\n",
       "      <td>...</td>\n",
       "    </tr>\n",
       "    <tr>\n",
       "      <th>209</th>\n",
       "      <td>151727782</td>\n",
       "      <td>1470005.00</td>\n",
       "      <td>0.0</td>\n",
       "      <td>234119.00000</td>\n",
       "      <td>73282.00</td>\n",
       "      <td>0.00000</td>\n",
       "      <td>894852.0</td>\n",
       "      <td>0.6615</td>\n",
       "      <td>0.0000</td>\n",
       "      <td>1</td>\n",
       "    </tr>\n",
       "    <tr>\n",
       "      <th>210</th>\n",
       "      <td>151622994</td>\n",
       "      <td>1414145.00</td>\n",
       "      <td>0.0</td>\n",
       "      <td>288047.00000</td>\n",
       "      <td>72.61</td>\n",
       "      <td>0.08073</td>\n",
       "      <td>918524.0</td>\n",
       "      <td>106155.0000</td>\n",
       "      <td>0.0000</td>\n",
       "      <td>1</td>\n",
       "    </tr>\n",
       "    <tr>\n",
       "      <th>211</th>\n",
       "      <td>151837126</td>\n",
       "      <td>14321.00</td>\n",
       "      <td>325974.0</td>\n",
       "      <td>221921.00000</td>\n",
       "      <td>712492.00</td>\n",
       "      <td>145935.00000</td>\n",
       "      <td>578508.0</td>\n",
       "      <td>162855.0000</td>\n",
       "      <td>0.0000</td>\n",
       "      <td>1</td>\n",
       "    </tr>\n",
       "    <tr>\n",
       "      <th>212</th>\n",
       "      <td>151657164</td>\n",
       "      <td>147998.00</td>\n",
       "      <td>0.0</td>\n",
       "      <td>19913.00000</td>\n",
       "      <td>731084.00</td>\n",
       "      <td>0.00000</td>\n",
       "      <td>82814.0</td>\n",
       "      <td>171045.0000</td>\n",
       "      <td>0.0000</td>\n",
       "      <td>1</td>\n",
       "    </tr>\n",
       "    <tr>\n",
       "      <th>213</th>\n",
       "      <td>151732338</td>\n",
       "      <td>1495275.00</td>\n",
       "      <td>0.0</td>\n",
       "      <td>17987.00000</td>\n",
       "      <td>729908.00</td>\n",
       "      <td>0.00000</td>\n",
       "      <td>861496.0</td>\n",
       "      <td>15498.0000</td>\n",
       "      <td>0.0000</td>\n",
       "      <td>1</td>\n",
       "    </tr>\n",
       "  </tbody>\n",
       "</table>\n",
       "<p>214 rows × 10 columns</p>\n",
       "</div>"
      ],
      "text/plain": [
       "            RI          Na        Mg            Al         Si             K  \\\n",
       "0    151588824  1287795.00  343036.0  140066.00000   73282.00       0.68931   \n",
       "1     15176423   129777.00  353812.0  121127.00000   73002.00       0.65205   \n",
       "2    152212996  1420795.00  382099.0       0.46976      71.77       0.11178   \n",
       "3    152222108  1321045.00   37716.0       0.79076  719884.00       0.13041   \n",
       "4    151755118       13.39  365935.0   11888.00000  727892.00       0.57132   \n",
       "..         ...         ...       ...           ...        ...           ...   \n",
       "209  151727782  1470005.00       0.0  234119.00000   73282.00       0.00000   \n",
       "210  151622994  1414145.00       0.0  288047.00000      72.61       0.08073   \n",
       "211  151837126    14321.00  325974.0  221921.00000  712492.00  145935.00000   \n",
       "212  151657164   147998.00       0.0   19913.00000  731084.00       0.00000   \n",
       "213  151732338  1495275.00       0.0   17987.00000  729908.00       0.00000   \n",
       "\n",
       "           Ca           Ba      Fe  Class  \n",
       "0    804468.0       0.0000  0.1224      0  \n",
       "1    852888.0       0.0000  0.0000      0  \n",
       "2     95726.0       0.0000  0.0000      0  \n",
       "3    102452.0       0.0000  0.0000      0  \n",
       "4    827064.0       0.0000  0.0561      0  \n",
       "..        ...          ...     ...    ...  \n",
       "209  894852.0       0.6615  0.0000      1  \n",
       "210  918524.0  106155.0000  0.0000      1  \n",
       "211  578508.0  162855.0000  0.0000      1  \n",
       "212   82814.0  171045.0000  0.0000      1  \n",
       "213  861496.0   15498.0000  0.0000      1  \n",
       "\n",
       "[214 rows x 10 columns]"
      ]
     },
     "execution_count": 7,
     "metadata": {},
     "output_type": "execute_result"
    }
   ],
   "source": [
    "lb = LabelEncoder()\n",
    "df['Class'] = lb.fit_transform(df['Class'])\n",
    "df"
   ]
  },
  {
   "cell_type": "code",
   "execution_count": 8,
   "id": "85e7cf32",
   "metadata": {},
   "outputs": [
    {
     "data": {
      "text/html": [
       "<div>\n",
       "<style scoped>\n",
       "    .dataframe tbody tr th:only-of-type {\n",
       "        vertical-align: middle;\n",
       "    }\n",
       "\n",
       "    .dataframe tbody tr th {\n",
       "        vertical-align: top;\n",
       "    }\n",
       "\n",
       "    .dataframe thead th {\n",
       "        text-align: right;\n",
       "    }\n",
       "</style>\n",
       "<table border=\"1\" class=\"dataframe\">\n",
       "  <thead>\n",
       "    <tr style=\"text-align: right;\">\n",
       "      <th></th>\n",
       "      <th>RI</th>\n",
       "      <th>Na</th>\n",
       "      <th>Mg</th>\n",
       "      <th>Al</th>\n",
       "      <th>Si</th>\n",
       "      <th>K</th>\n",
       "      <th>Ca</th>\n",
       "      <th>Ba</th>\n",
       "      <th>Fe</th>\n",
       "      <th>Class</th>\n",
       "    </tr>\n",
       "  </thead>\n",
       "  <tbody>\n",
       "    <tr>\n",
       "      <th>count</th>\n",
       "      <td>2.140000e+02</td>\n",
       "      <td>2.140000e+02</td>\n",
       "      <td>214.000000</td>\n",
       "      <td>214.000000</td>\n",
       "      <td>214.00000</td>\n",
       "      <td>214.000000</td>\n",
       "      <td>2.140000e+02</td>\n",
       "      <td>214.000000</td>\n",
       "      <td>214.000000</td>\n",
       "      <td>214.000000</td>\n",
       "    </tr>\n",
       "    <tr>\n",
       "      <th>mean</th>\n",
       "      <td>1.227665e+08</td>\n",
       "      <td>7.417669e+05</td>\n",
       "      <td>247726.334575</td>\n",
       "      <td>117974.543128</td>\n",
       "      <td>538941.92243</td>\n",
       "      <td>4724.692984</td>\n",
       "      <td>7.142057e+05</td>\n",
       "      <td>5748.958371</td>\n",
       "      <td>0.042611</td>\n",
       "      <td>0.135514</td>\n",
       "    </tr>\n",
       "    <tr>\n",
       "      <th>std</th>\n",
       "      <td>5.649972e+07</td>\n",
       "      <td>6.165723e+05</td>\n",
       "      <td>153736.244460</td>\n",
       "      <td>73791.110657</td>\n",
       "      <td>305738.56219</td>\n",
       "      <td>29122.840398</td>\n",
       "      <td>3.639062e+05</td>\n",
       "      <td>28114.616976</td>\n",
       "      <td>0.092474</td>\n",
       "      <td>0.343074</td>\n",
       "    </tr>\n",
       "    <tr>\n",
       "      <th>min</th>\n",
       "      <td>1.511150e+05</td>\n",
       "      <td>1.073000e+01</td>\n",
       "      <td>0.000000</td>\n",
       "      <td>0.290000</td>\n",
       "      <td>69.81000</td>\n",
       "      <td>0.000000</td>\n",
       "      <td>5.430000e+00</td>\n",
       "      <td>0.000000</td>\n",
       "      <td>0.000000</td>\n",
       "      <td>0.000000</td>\n",
       "    </tr>\n",
       "    <tr>\n",
       "      <th>25%</th>\n",
       "      <td>1.515592e+08</td>\n",
       "      <td>1.327030e+05</td>\n",
       "      <td>36818.000000</td>\n",
       "      <td>48908.000000</td>\n",
       "      <td>73282.00000</td>\n",
       "      <td>0.121095</td>\n",
       "      <td>7.146220e+05</td>\n",
       "      <td>0.000000</td>\n",
       "      <td>0.000000</td>\n",
       "      <td>0.000000</td>\n",
       "    </tr>\n",
       "    <tr>\n",
       "      <th>50%</th>\n",
       "      <td>1.517335e+08</td>\n",
       "      <td>1.175410e+06</td>\n",
       "      <td>343485.000000</td>\n",
       "      <td>131078.000000</td>\n",
       "      <td>724644.00000</td>\n",
       "      <td>0.555795</td>\n",
       "      <td>8.432040e+05</td>\n",
       "      <td>0.000000</td>\n",
       "      <td>0.000000</td>\n",
       "      <td>0.000000</td>\n",
       "    </tr>\n",
       "    <tr>\n",
       "      <th>75%</th>\n",
       "      <td>1.518502e+08</td>\n",
       "      <td>1.323705e+06</td>\n",
       "      <td>357853.000000</td>\n",
       "      <td>157079.000000</td>\n",
       "      <td>729908.00000</td>\n",
       "      <td>0.608580</td>\n",
       "      <td>8.983490e+05</td>\n",
       "      <td>0.000000</td>\n",
       "      <td>0.056100</td>\n",
       "      <td>0.000000</td>\n",
       "    </tr>\n",
       "    <tr>\n",
       "      <th>max</th>\n",
       "      <td>1.531242e+08</td>\n",
       "      <td>1.579065e+06</td>\n",
       "      <td>397814.000000</td>\n",
       "      <td>304097.000000</td>\n",
       "      <td>751804.00000</td>\n",
       "      <td>270135.000000</td>\n",
       "      <td>1.496336e+06</td>\n",
       "      <td>171045.000000</td>\n",
       "      <td>0.510000</td>\n",
       "      <td>1.000000</td>\n",
       "    </tr>\n",
       "  </tbody>\n",
       "</table>\n",
       "</div>"
      ],
      "text/plain": [
       "                 RI            Na             Mg             Al            Si  \\\n",
       "count  2.140000e+02  2.140000e+02     214.000000     214.000000     214.00000   \n",
       "mean   1.227665e+08  7.417669e+05  247726.334575  117974.543128  538941.92243   \n",
       "std    5.649972e+07  6.165723e+05  153736.244460   73791.110657  305738.56219   \n",
       "min    1.511150e+05  1.073000e+01       0.000000       0.290000      69.81000   \n",
       "25%    1.515592e+08  1.327030e+05   36818.000000   48908.000000   73282.00000   \n",
       "50%    1.517335e+08  1.175410e+06  343485.000000  131078.000000  724644.00000   \n",
       "75%    1.518502e+08  1.323705e+06  357853.000000  157079.000000  729908.00000   \n",
       "max    1.531242e+08  1.579065e+06  397814.000000  304097.000000  751804.00000   \n",
       "\n",
       "                   K            Ca             Ba          Fe       Class  \n",
       "count     214.000000  2.140000e+02     214.000000  214.000000  214.000000  \n",
       "mean     4724.692984  7.142057e+05    5748.958371    0.042611    0.135514  \n",
       "std     29122.840398  3.639062e+05   28114.616976    0.092474    0.343074  \n",
       "min         0.000000  5.430000e+00       0.000000    0.000000    0.000000  \n",
       "25%         0.121095  7.146220e+05       0.000000    0.000000    0.000000  \n",
       "50%         0.555795  8.432040e+05       0.000000    0.000000    0.000000  \n",
       "75%         0.608580  8.983490e+05       0.000000    0.056100    0.000000  \n",
       "max    270135.000000  1.496336e+06  171045.000000    0.510000    1.000000  "
      ]
     },
     "execution_count": 8,
     "metadata": {},
     "output_type": "execute_result"
    }
   ],
   "source": [
    "df.describe()"
   ]
  },
  {
   "cell_type": "code",
   "execution_count": 9,
   "id": "08628a53",
   "metadata": {},
   "outputs": [
    {
     "data": {
      "text/plain": [
       "<AxesSubplot:>"
      ]
     },
     "execution_count": 9,
     "metadata": {},
     "output_type": "execute_result"
    },
    {
     "data": {
      "image/png": "[encoded data removed]",
      "text/plain": [
       "<Figure size 720x720 with 2 Axes>"
      ]
     },
     "metadata": {
      "needs_background": "light"
     },
     "output_type": "display_data"
    }
   ],
   "source": [
    "plt.figure(figsize=(10,10))\n",
    "sns.heatmap(df.corr(),annot=True)"
   ]
  },
  {
   "cell_type": "code",
   "execution_count": 10,
   "id": "584a0ce5",
   "metadata": {},
   "outputs": [
    {
     "data": {
      "text/html": [
       "<div>\n",
       "<style scoped>\n",
       "    .dataframe tbody tr th:only-of-type {\n",
       "        vertical-align: middle;\n",
       "    }\n",
       "\n",
       "    .dataframe tbody tr th {\n",
       "        vertical-align: top;\n",
       "    }\n",
       "\n",
       "    .dataframe thead th {\n",
       "        text-align: right;\n",
       "    }\n",
       "</style>\n",
       "<table border=\"1\" class=\"dataframe\">\n",
       "  <thead>\n",
       "    <tr style=\"text-align: right;\">\n",
       "      <th></th>\n",
       "      <th></th>\n",
       "      <th></th>\n",
       "      <th></th>\n",
       "      <th></th>\n",
       "      <th></th>\n",
       "      <th></th>\n",
       "      <th></th>\n",
       "      <th></th>\n",
       "      <th></th>\n",
       "      <th></th>\n",
       "    </tr>\n",
       "  </thead>\n",
       "  <tbody>\n",
       "    <tr>\n",
       "      <th>0</th>\n",
       "      <td>151588824</td>\n",
       "      <td>1287795.00</td>\n",
       "      <td>343036.0</td>\n",
       "      <td>140066.00000</td>\n",
       "      <td>73282.00</td>\n",
       "      <td>0.68931</td>\n",
       "      <td>804468.0</td>\n",
       "      <td>0.0000</td>\n",
       "      <td>0.1224</td>\n",
       "      <td>0</td>\n",
       "    </tr>\n",
       "    <tr>\n",
       "      <th>1</th>\n",
       "      <td>15176423</td>\n",
       "      <td>129777.00</td>\n",
       "      <td>353812.0</td>\n",
       "      <td>121127.00000</td>\n",
       "      <td>73002.00</td>\n",
       "      <td>0.65205</td>\n",
       "      <td>852888.0</td>\n",
       "      <td>0.0000</td>\n",
       "      <td>0.0000</td>\n",
       "      <td>0</td>\n",
       "    </tr>\n",
       "    <tr>\n",
       "      <th>2</th>\n",
       "      <td>152212996</td>\n",
       "      <td>1420795.00</td>\n",
       "      <td>382099.0</td>\n",
       "      <td>0.46976</td>\n",
       "      <td>71.77</td>\n",
       "      <td>0.11178</td>\n",
       "      <td>95726.0</td>\n",
       "      <td>0.0000</td>\n",
       "      <td>0.0000</td>\n",
       "      <td>0</td>\n",
       "    </tr>\n",
       "    <tr>\n",
       "      <th>3</th>\n",
       "      <td>152222108</td>\n",
       "      <td>1321045.00</td>\n",
       "      <td>37716.0</td>\n",
       "      <td>0.79076</td>\n",
       "      <td>719884.00</td>\n",
       "      <td>0.13041</td>\n",
       "      <td>102452.0</td>\n",
       "      <td>0.0000</td>\n",
       "      <td>0.0000</td>\n",
       "      <td>0</td>\n",
       "    </tr>\n",
       "    <tr>\n",
       "      <th>4</th>\n",
       "      <td>151755118</td>\n",
       "      <td>13.39</td>\n",
       "      <td>365935.0</td>\n",
       "      <td>11888.00000</td>\n",
       "      <td>727892.00</td>\n",
       "      <td>0.57132</td>\n",
       "      <td>827064.0</td>\n",
       "      <td>0.0000</td>\n",
       "      <td>0.0561</td>\n",
       "      <td>0</td>\n",
       "    </tr>\n",
       "    <tr>\n",
       "      <th>...</th>\n",
       "      <td>...</td>\n",
       "      <td>...</td>\n",
       "      <td>...</td>\n",
       "      <td>...</td>\n",
       "      <td>...</td>\n",
       "      <td>...</td>\n",
       "      <td>...</td>\n",
       "      <td>...</td>\n",
       "      <td>...</td>\n",
       "      <td>...</td>\n",
       "    </tr>\n",
       "    <tr>\n",
       "      <th>209</th>\n",
       "      <td>151727782</td>\n",
       "      <td>1470005.00</td>\n",
       "      <td>0.0</td>\n",
       "      <td>234119.00000</td>\n",
       "      <td>73282.00</td>\n",
       "      <td>0.00000</td>\n",
       "      <td>894852.0</td>\n",
       "      <td>0.6615</td>\n",
       "      <td>0.0000</td>\n",
       "      <td>1</td>\n",
       "    </tr>\n",
       "    <tr>\n",
       "      <th>210</th>\n",
       "      <td>151622994</td>\n",
       "      <td>1414145.00</td>\n",
       "      <td>0.0</td>\n",
       "      <td>288047.00000</td>\n",
       "      <td>72.61</td>\n",
       "      <td>0.08073</td>\n",
       "      <td>918524.0</td>\n",
       "      <td>106155.0000</td>\n",
       "      <td>0.0000</td>\n",
       "      <td>1</td>\n",
       "    </tr>\n",
       "    <tr>\n",
       "      <th>211</th>\n",
       "      <td>151837126</td>\n",
       "      <td>14321.00</td>\n",
       "      <td>325974.0</td>\n",
       "      <td>221921.00000</td>\n",
       "      <td>712492.00</td>\n",
       "      <td>145935.00000</td>\n",
       "      <td>578508.0</td>\n",
       "      <td>162855.0000</td>\n",
       "      <td>0.0000</td>\n",
       "      <td>1</td>\n",
       "    </tr>\n",
       "    <tr>\n",
       "      <th>212</th>\n",
       "      <td>151657164</td>\n",
       "      <td>147998.00</td>\n",
       "      <td>0.0</td>\n",
       "      <td>19913.00000</td>\n",
       "      <td>731084.00</td>\n",
       "      <td>0.00000</td>\n",
       "      <td>82814.0</td>\n",
       "      <td>171045.0000</td>\n",
       "      <td>0.0000</td>\n",
       "      <td>1</td>\n",
       "    </tr>\n",
       "    <tr>\n",
       "      <th>213</th>\n",
       "      <td>151732338</td>\n",
       "      <td>1495275.00</td>\n",
       "      <td>0.0</td>\n",
       "      <td>17987.00000</td>\n",
       "      <td>729908.00</td>\n",
       "      <td>0.00000</td>\n",
       "      <td>861496.0</td>\n",
       "      <td>15498.0000</td>\n",
       "      <td>0.0000</td>\n",
       "      <td>1</td>\n",
       "    </tr>\n",
       "  </tbody>\n",
       "</table>\n",
       "<p>214 rows × 10 columns</p>\n",
       "</div>"
      ],
      "text/plain": [
       "                                                                             \\\n",
       "0    151588824  1287795.00  343036.0  140066.00000   73282.00       0.68931   \n",
       "1     15176423   129777.00  353812.0  121127.00000   73002.00       0.65205   \n",
       "2    152212996  1420795.00  382099.0       0.46976      71.77       0.11178   \n",
       "3    152222108  1321045.00   37716.0       0.79076  719884.00       0.13041   \n",
       "4    151755118       13.39  365935.0   11888.00000  727892.00       0.57132   \n",
       "..         ...         ...       ...           ...        ...           ...   \n",
       "209  151727782  1470005.00       0.0  234119.00000   73282.00       0.00000   \n",
       "210  151622994  1414145.00       0.0  288047.00000      72.61       0.08073   \n",
       "211  151837126    14321.00  325974.0  221921.00000  712492.00  145935.00000   \n",
       "212  151657164   147998.00       0.0   19913.00000  731084.00       0.00000   \n",
       "213  151732338  1495275.00       0.0   17987.00000  729908.00       0.00000   \n",
       "\n",
       "                                       \n",
       "0    804468.0       0.0000  0.1224  0  \n",
       "1    852888.0       0.0000  0.0000  0  \n",
       "2     95726.0       0.0000  0.0000  0  \n",
       "3    102452.0       0.0000  0.0000  0  \n",
       "4    827064.0       0.0000  0.0561  0  \n",
       "..        ...          ...     ... ..  \n",
       "209  894852.0       0.6615  0.0000  1  \n",
       "210  918524.0  106155.0000  0.0000  1  \n",
       "211  578508.0  162855.0000  0.0000  1  \n",
       "212   82814.0  171045.0000  0.0000  1  \n",
       "213  861496.0   15498.0000  0.0000  1  \n",
       "\n",
       "[214 rows x 10 columns]"
      ]
     },
     "execution_count": 10,
     "metadata": {},
     "output_type": "execute_result"
    }
   ],
   "source": [
    "df.columns = [''] * len(df.columns)\n",
    "df"
   ]
  },
  {
   "cell_type": "code",
   "execution_count": 11,
   "id": "778ae134",
   "metadata": {},
   "outputs": [
    {
     "data": {
      "text/html": [
       "<div>\n",
       "<style scoped>\n",
       "    .dataframe tbody tr th:only-of-type {\n",
       "        vertical-align: middle;\n",
       "    }\n",
       "\n",
       "    .dataframe tbody tr th {\n",
       "        vertical-align: top;\n",
       "    }\n",
       "\n",
       "    .dataframe thead th {\n",
       "        text-align: right;\n",
       "    }\n",
       "</style>\n",
       "<table border=\"1\" class=\"dataframe\">\n",
       "  <thead>\n",
       "    <tr style=\"text-align: right;\">\n",
       "      <th></th>\n",
       "      <th>RI</th>\n",
       "      <th>Na</th>\n",
       "      <th>Mg</th>\n",
       "      <th>Al</th>\n",
       "      <th>Si</th>\n",
       "      <th>K</th>\n",
       "      <th>Ca</th>\n",
       "      <th>Ba</th>\n",
       "      <th>Fe</th>\n",
       "      <th>Class</th>\n",
       "    </tr>\n",
       "  </thead>\n",
       "  <tbody>\n",
       "    <tr>\n",
       "      <th>0</th>\n",
       "      <td>151588824</td>\n",
       "      <td>1287795.00</td>\n",
       "      <td>343036.0</td>\n",
       "      <td>140066.00000</td>\n",
       "      <td>73282.00</td>\n",
       "      <td>0.68931</td>\n",
       "      <td>804468.0</td>\n",
       "      <td>0.0</td>\n",
       "      <td>0.1224</td>\n",
       "      <td>0</td>\n",
       "    </tr>\n",
       "    <tr>\n",
       "      <th>1</th>\n",
       "      <td>15176423</td>\n",
       "      <td>129777.00</td>\n",
       "      <td>353812.0</td>\n",
       "      <td>121127.00000</td>\n",
       "      <td>73002.00</td>\n",
       "      <td>0.65205</td>\n",
       "      <td>852888.0</td>\n",
       "      <td>0.0</td>\n",
       "      <td>0.0000</td>\n",
       "      <td>0</td>\n",
       "    </tr>\n",
       "    <tr>\n",
       "      <th>2</th>\n",
       "      <td>152212996</td>\n",
       "      <td>1420795.00</td>\n",
       "      <td>382099.0</td>\n",
       "      <td>0.46976</td>\n",
       "      <td>71.77</td>\n",
       "      <td>0.11178</td>\n",
       "      <td>95726.0</td>\n",
       "      <td>0.0</td>\n",
       "      <td>0.0000</td>\n",
       "      <td>0</td>\n",
       "    </tr>\n",
       "    <tr>\n",
       "      <th>3</th>\n",
       "      <td>152222108</td>\n",
       "      <td>1321045.00</td>\n",
       "      <td>37716.0</td>\n",
       "      <td>0.79076</td>\n",
       "      <td>719884.00</td>\n",
       "      <td>0.13041</td>\n",
       "      <td>102452.0</td>\n",
       "      <td>0.0</td>\n",
       "      <td>0.0000</td>\n",
       "      <td>0</td>\n",
       "    </tr>\n",
       "    <tr>\n",
       "      <th>4</th>\n",
       "      <td>151755118</td>\n",
       "      <td>13.39</td>\n",
       "      <td>365935.0</td>\n",
       "      <td>11888.00000</td>\n",
       "      <td>727892.00</td>\n",
       "      <td>0.57132</td>\n",
       "      <td>827064.0</td>\n",
       "      <td>0.0</td>\n",
       "      <td>0.0561</td>\n",
       "      <td>0</td>\n",
       "    </tr>\n",
       "  </tbody>\n",
       "</table>\n",
       "</div>"
      ],
      "text/plain": [
       "          RI          Na        Mg            Al         Si        K  \\\n",
       "0  151588824  1287795.00  343036.0  140066.00000   73282.00  0.68931   \n",
       "1   15176423   129777.00  353812.0  121127.00000   73002.00  0.65205   \n",
       "2  152212996  1420795.00  382099.0       0.46976      71.77  0.11178   \n",
       "3  152222108  1321045.00   37716.0       0.79076  719884.00  0.13041   \n",
       "4  151755118       13.39  365935.0   11888.00000  727892.00  0.57132   \n",
       "\n",
       "         Ca   Ba      Fe  Class  \n",
       "0  804468.0  0.0  0.1224      0  \n",
       "1  852888.0  0.0  0.0000      0  \n",
       "2   95726.0  0.0  0.0000      0  \n",
       "3  102452.0  0.0  0.0000      0  \n",
       "4  827064.0  0.0  0.0561      0  "
      ]
     },
     "execution_count": 11,
     "metadata": {},
     "output_type": "execute_result"
    }
   ],
   "source": [
    "df.columns = ['RI', 'Na', 'Mg', 'Al', 'Si', 'K', 'Ca', 'Ba', 'Fe', 'Class']\n",
    "df.head(5)"
   ]
  },
  {
   "cell_type": "code",
   "execution_count": 12,
   "id": "b3464ed1",
   "metadata": {
    "scrolled": false
   },
   "outputs": [
    {
     "data": {
      "image/png": "[encoded data removed]",
      "text/plain": [
       "<Figure size 360x360 with 1 Axes>"
      ]
     },
     "metadata": {
      "needs_background": "light"
     },
     "output_type": "display_data"
    }
   ],
   "source": [
    "plt.figure(figsize=(5,5))\n",
    "plt.scatter(x = df['Na'], y = df['Class'])\n",
    "plt.show()"
   ]
  },
  {
   "cell_type": "code",
   "execution_count": 13,
   "id": "b59a11fc",
   "metadata": {},
   "outputs": [
    {
     "data": {
      "image/png": "[encoded data removed]",
      "text/plain": [
       "<Figure size 360x360 with 1 Axes>"
      ]
     },
     "metadata": {
      "needs_background": "light"
     },
     "output_type": "display_data"
    }
   ],
   "source": [
    "plt.figure(figsize=(5,5))\n",
    "plt.scatter(x = df['Al'], y = df['Class'])\n",
    "plt.show()"
   ]
  },
  {
   "cell_type": "code",
   "execution_count": 14,
   "id": "e0fa1f7d",
   "metadata": {},
   "outputs": [
    {
     "data": {
      "text/html": [
       "<div>\n",
       "<style scoped>\n",
       "    .dataframe tbody tr th:only-of-type {\n",
       "        vertical-align: middle;\n",
       "    }\n",
       "\n",
       "    .dataframe tbody tr th {\n",
       "        vertical-align: top;\n",
       "    }\n",
       "\n",
       "    .dataframe thead th {\n",
       "        text-align: right;\n",
       "    }\n",
       "</style>\n",
       "<table border=\"1\" class=\"dataframe\">\n",
       "  <thead>\n",
       "    <tr style=\"text-align: right;\">\n",
       "      <th></th>\n",
       "      <th>Class</th>\n",
       "    </tr>\n",
       "  </thead>\n",
       "  <tbody>\n",
       "    <tr>\n",
       "      <th>0</th>\n",
       "      <td>0</td>\n",
       "    </tr>\n",
       "    <tr>\n",
       "      <th>1</th>\n",
       "      <td>0</td>\n",
       "    </tr>\n",
       "    <tr>\n",
       "      <th>2</th>\n",
       "      <td>0</td>\n",
       "    </tr>\n",
       "    <tr>\n",
       "      <th>3</th>\n",
       "      <td>0</td>\n",
       "    </tr>\n",
       "    <tr>\n",
       "      <th>4</th>\n",
       "      <td>0</td>\n",
       "    </tr>\n",
       "    <tr>\n",
       "      <th>...</th>\n",
       "      <td>...</td>\n",
       "    </tr>\n",
       "    <tr>\n",
       "      <th>209</th>\n",
       "      <td>1</td>\n",
       "    </tr>\n",
       "    <tr>\n",
       "      <th>210</th>\n",
       "      <td>1</td>\n",
       "    </tr>\n",
       "    <tr>\n",
       "      <th>211</th>\n",
       "      <td>1</td>\n",
       "    </tr>\n",
       "    <tr>\n",
       "      <th>212</th>\n",
       "      <td>1</td>\n",
       "    </tr>\n",
       "    <tr>\n",
       "      <th>213</th>\n",
       "      <td>1</td>\n",
       "    </tr>\n",
       "  </tbody>\n",
       "</table>\n",
       "<p>214 rows × 1 columns</p>\n",
       "</div>"
      ],
      "text/plain": [
       "     Class\n",
       "0        0\n",
       "1        0\n",
       "2        0\n",
       "3        0\n",
       "4        0\n",
       "..     ...\n",
       "209      1\n",
       "210      1\n",
       "211      1\n",
       "212      1\n",
       "213      1\n",
       "\n",
       "[214 rows x 1 columns]"
      ]
     },
     "execution_count": 14,
     "metadata": {},
     "output_type": "execute_result"
    }
   ],
   "source": [
    "x = df.iloc[:,0:9]\n",
    "y = df.iloc[:,9:10]\n",
    "x_train, x_test, y_train, y_test = train_test_split(x,y,test_size=0.2, random_state=30)\n",
    "y"
   ]
  },
  {
   "cell_type": "code",
   "execution_count": 15,
   "id": "0b9ebbfa",
   "metadata": {},
   "outputs": [],
   "source": [
    "sc = StandardScaler()\n",
    "x_train = sc.fit_transform(x_train)\n",
    "x_test = sc.transform(x_test)"
   ]
  },
  {
   "cell_type": "code",
   "execution_count": 16,
   "id": "d8a840ce",
   "metadata": {},
   "outputs": [
    {
     "name": "stderr",
     "output_type": "stream",
     "text": [
      "C:\\Users\\jkana\\anaconda3\\lib\\site-packages\\sklearn\\neighbors\\_classification.py:179: DataConversionWarning: A column-vector y was passed when a 1d array was expected. Please change the shape of y to (n_samples,), for example using ravel().\n",
      "  return self._fit(X, y)\n"
     ]
    },
    {
     "data": {
      "text/plain": [
       "KNeighborsClassifier(metric='euclidean', n_neighbors=30)"
      ]
     },
     "execution_count": 16,
     "metadata": {},
     "output_type": "execute_result"
    }
   ],
   "source": [
    "knn = KNeighborsClassifier(n_neighbors=30, metric='euclidean')\n",
    "knn.fit(x_train, y_train)"
   ]
  },
  {
   "cell_type": "code",
   "execution_count": 21,
   "id": "e3f4ed2d",
   "metadata": {},
   "outputs": [
    {
     "name": "stderr",
     "output_type": "stream",
     "text": [
      "C:\\Users\\jkana\\anaconda3\\lib\\site-packages\\sklearn\\neighbors\\_classification.py:179: DataConversionWarning: A column-vector y was passed when a 1d array was expected. Please change the shape of y to (n_samples,), for example using ravel().\n",
      "  return self._fit(X, y)\n"
     ]
    },
    {
     "data": {
      "text/plain": [
       "KNeighborsClassifier(metric='manhattan', n_neighbors=40)"
      ]
     },
     "execution_count": 21,
     "metadata": {},
     "output_type": "execute_result"
    }
   ],
   "source": [
    "knn1 = KNeighborsClassifier(n_neighbors=40, metric='manhattan')\n",
    "knn1.fit(x_train, y_train)"
   ]
  },
  {
   "cell_type": "code",
   "execution_count": 18,
   "id": "2a832d75",
   "metadata": {},
   "outputs": [
    {
     "data": {
      "text/plain": [
       "array([0, 0, 0, 0, 0, 0, 0, 0, 0, 0, 0, 0, 0, 0, 0, 0, 0, 0, 0, 0, 0, 0,\n",
       "       0, 0, 0, 0, 0, 0, 0, 0, 0, 0, 0, 0, 0, 0, 0, 0, 0, 0, 0, 0, 0])"
      ]
     },
     "execution_count": 18,
     "metadata": {},
     "output_type": "execute_result"
    }
   ],
   "source": [
    "y_pred  =  knn.predict(x_test)\n",
    "y_pred"
   ]
  },
  {
   "cell_type": "code",
   "execution_count": 22,
   "id": "ec829faf",
   "metadata": {},
   "outputs": [
    {
     "data": {
      "text/plain": [
       "array([0, 0, 0, 0, 0, 0, 0, 0, 0, 0, 0, 0, 0, 0, 0, 0, 0, 0, 0, 0, 0, 0,\n",
       "       0, 0, 0, 0, 0, 0, 0, 0, 0, 0, 0, 0, 0, 0, 0, 0, 0, 0, 0, 0, 0])"
      ]
     },
     "execution_count": 22,
     "metadata": {},
     "output_type": "execute_result"
    }
   ],
   "source": [
    "y_pred1  =  knn1.predict(x_test)\n",
    "y_pred1"
   ]
  },
  {
   "cell_type": "code",
   "execution_count": 20,
   "id": "3f982592",
   "metadata": {},
   "outputs": [
    {
     "name": "stdout",
     "output_type": "stream",
     "text": [
      "accuracy_score :  0.8604651162790697\n",
      "f1_score :  0.0\n",
      "roc_auc_score for Kneighbours_classifier:  0.8626126126126126\n"
     ]
    }
   ],
   "source": [
    "from sklearn.metrics import accuracy_score, f1_score, roc_auc_score, roc_curve\n",
    "print(\"accuracy_score : \",accuracy_score(y_test, y_pred))\n",
    "print(\"f1_score : \",f1_score(y_test, y_pred))\n",
    "y_score1 = knn.predict_proba(x_test)[:,1]\n",
    "false_positive_rate1, true_positive_rate1, threshold1 = roc_curve(y_test, y_score1)\n",
    "print('roc_auc_score for Kneighbours_classifier: ', roc_auc_score(y_test, y_score1))"
   ]
  },
  {
   "cell_type": "code",
   "execution_count": 23,
   "id": "b36cde5a",
   "metadata": {},
   "outputs": [
    {
     "data": {
      "image/png": "[encoded data removed]",
      "text/plain": [
       "<Figure size 720x720 with 1 Axes>"
      ]
     },
     "metadata": {
      "needs_background": "light"
     },
     "output_type": "display_data"
    }
   ],
   "source": [
    "plt.subplots(1, figsize=(10,10))\n",
    "plt.title('Receiver Operating Characteristic - Kneighbours_classifier')\n",
    "plt.plot(false_positive_rate1, true_positive_rate1)\n",
    "plt.plot([0, 1], ls=\"--\")\n",
    "plt.plot([0, 0], [1, 0] , c=\".7\"), plt.plot([1, 1] , c=\".7\")\n",
    "plt.ylabel('True Positive Rate')\n",
    "plt.xlabel('False Positive Rate')\n",
    "plt.show()"
   ]
  },
  {
   "cell_type": "code",
   "execution_count": 24,
   "id": "0acd23ba",
   "metadata": {},
   "outputs": [
    {
     "name": "stdout",
     "output_type": "stream",
     "text": [
      "accuracy_score :  0.8604651162790697\n",
      "f1_score :  0.0\n",
      "roc_auc_score for Kneighbours_classifier:  0.8626126126126126\n"
     ]
    }
   ],
   "source": [
    "from sklearn.metrics import accuracy_score, f1_score, roc_auc_score, roc_curve\n",
    "print(\"accuracy_score : \",accuracy_score(y_test, y_pred1))\n",
    "print(\"f1_score : \",f1_score(y_test, y_pred1))\n",
    "y_score2 = knn.predict_proba(x_test)[:,1]\n",
    "false_positive_rate2, true_positive_rate2, threshold2 = roc_curve(y_test, y_score2)\n",
    "print('roc_auc_score for Kneighbours_classifier: ', roc_auc_score(y_test, y_score2))"
   ]
  },
  {
   "cell_type": "code",
   "execution_count": 25,
   "id": "d71fb6e7",
   "metadata": {},
   "outputs": [
    {
     "data": {
      "image/png": "[encoded data removed]",
      "text/plain": [
       "<Figure size 720x720 with 1 Axes>"
      ]
     },
     "metadata": {
      "needs_background": "light"
     },
     "output_type": "display_data"
    }
   ],
   "source": [
    "plt.subplots(1, figsize=(10,10))\n",
    "plt.title('Receiver Operating Characteristic - Kneighbours_classifier')\n",
    "plt.plot(false_positive_rate2, true_positive_rate2)\n",
    "plt.plot([0, 1], ls=\"--\")\n",
    "plt.plot([0, 0], [1, 0] , c=\".7\"), plt.plot([1, 1] , c=\".7\")\n",
    "plt.ylabel('True Positive Rate')\n",
    "plt.xlabel('False Positive Rate')\n",
    "plt.show()"
   ]
  },
  {
   "cell_type": "code",
   "execution_count": null,
   "id": "1106af1e",
   "metadata": {},
   "outputs": [],
   "source": []
  },
  {
   "cell_type": "code",
   "execution_count": null,
   "id": "01f98e00",
   "metadata": {},
   "outputs": [],
   "source": []
  }
 ],
 "metadata": {
  "kernelspec": {
   "display_name": "Python 3",
   "language": "python",
   "name": "python3"
  },
  "language_info": {
   "codemirror_mode": {
    "name": "ipython",
    "version": 3
   },
   "file_extension": ".py",
   "mimetype": "text/x-python",
   "name": "python",
   "nbconvert_exporter": "python",
   "pygments_lexer": "ipython3",
   "version": "3.8.8"
  },
  "toc": {
   "base_numbering": 1,
   "nav_menu": {},
   "number_sections": true,
   "sideBar": true,
   "skip_h1_title": false,
   "title_cell": "Table of Contents",
   "title_sidebar": "Contents",
   "toc_cell": false,
   "toc_position": {},
   "toc_section_display": true,
   "toc_window_display": false
  }
 },
 "nbformat": 4,
 "nbformat_minor": 5
}
